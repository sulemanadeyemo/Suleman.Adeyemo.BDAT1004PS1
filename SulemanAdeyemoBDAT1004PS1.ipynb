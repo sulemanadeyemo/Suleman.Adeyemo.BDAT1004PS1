{
 "cells": [
  {
   "cell_type": "markdown",
   "id": "756b2ee5",
   "metadata": {},
   "source": [
    "Problem Set 1"
   ]
  },
  {
   "cell_type": "markdown",
   "id": "ebc1961e",
   "metadata": {},
   "source": [
    "All C# questions were run in Visual studio and pasted here."
   ]
  },
  {
   "cell_type": "markdown",
   "id": "f4113499",
   "metadata": {},
   "source": [
    "Question 1 C#"
   ]
  },
  {
   "cell_type": "markdown",
   "id": "3baef975",
   "metadata": {},
   "source": [
    "What data type is each of the following?"
   ]
  },
  {
   "cell_type": "code",
   "execution_count": null,
   "id": "597308a5",
   "metadata": {},
   "outputs": [],
   "source": [
    "5 is integer\n",
    "5.0 is double\n",
    "5 > 1 is Boolean\n",
    "\"5\" is a string\n",
    "5 * 2 is integer\n",
    "\"5\" * 2 is string\n",
    "\"5\" + \"2\" is string\n",
    "5/2 is integer\n",
    "5 % 2 is double\n",
    "{5, 2, 1} is a List \n",
    "5 == 3 is Boolean\n",
    "Pi (the number) is double"
   ]
  },
  {
   "cell_type": "markdown",
   "id": "5de842e9",
   "metadata": {},
   "source": [
    "Question 2 C#"
   ]
  },
  {
   "cell_type": "markdown",
   "id": "bec9f5b8",
   "metadata": {},
   "source": [
    "a. How many letters are there in 'Supercalifragilisticexpialidocious'?"
   ]
  },
  {
   "cell_type": "code",
   "execution_count": null,
   "id": "ff14222f",
   "metadata": {},
   "outputs": [],
   "source": [
    "string word = \"Supercalifragilisticexpialidocious\";   \n",
    "Console.WriteLine(\"The lengh of this word: \" + word.Length);\n",
    "Console.ReadLine();"
   ]
  },
  {
   "cell_type": "markdown",
   "id": "eeb8385f",
   "metadata": {},
   "source": [
    "b. Does 'Supercalifragilisticexpialidocious' contain 'ice' as a substring?"
   ]
  },
  {
   "cell_type": "code",
   "execution_count": null,
   "id": "c47ec882",
   "metadata": {},
   "outputs": [],
   "source": [
    "bool ice = word.Contains(\"ice\");\n",
    "Console.WriteLine(\"Does 'Supercalifragilisticexpialidocious' contain 'ice' as a substring? {0}\", ice);\n",
    "Console.ReadLine();"
   ]
  },
  {
   "cell_type": "markdown",
   "id": "adbff448",
   "metadata": {},
   "source": [
    "c Which of the following words is the longest: \n",
    "Supercalifragilisticexpialidocious, Honorificabilitudinitatibus, or Bababadalgharaghtakamminarronnkonn?"
   ]
  },
  {
   "cell_type": "code",
   "execution_count": null,
   "id": "e3366f25",
   "metadata": {},
   "outputs": [],
   "source": [
    "//create variables for the words in string\n",
    "string a = \"Supercalifragilisticexpialidocious\";\n",
    "string b = \"Honorificabilitudinitatibus\";\n",
    "string c = \"Bababadalgharaghtakamminarronnkonn\";\n",
    "\n",
    "string longestWord = \"\";\n",
    "\n",
    "//use the if function to declare conditions to find the longestWord\n",
    "if (a.Length >= b.Length && a.Length >= c.Length)\n",
    "{\n",
    "    longestWord = a;\n",
    "}\n",
    "if (b.Length >= a.Length && b.Length >= c.Length)\n",
    "{\n",
    "    longestWord= $\"{longestWord} and {b}\";\n",
    "}\n",
    "if (c.Length >= a.Length && c.Length >= b.Length)\n",
    "{\n",
    "    longestWord= $\"{longestWord} and {c}\";\n",
    "}\n",
    "\n",
    "Console.WriteLine(\"The longest word is {0}\", longestWord);\n",
    "Console.ReadLine();"
   ]
  },
  {
   "cell_type": "markdown",
   "id": "4b16cbca",
   "metadata": {},
   "source": [
    "d Which composer comes first in the dictionary: 'Berlioz', 'Borodin', 'Brian', \n",
    "'Bartok', 'Bellini', 'Buxtehude', 'Bernstein'. Which one comes last?"
   ]
  },
  {
   "cell_type": "code",
   "execution_count": null,
   "id": "dd006e4e",
   "metadata": {},
   "outputs": [],
   "source": [
    "//Create the list ComposerName\n",
    "List<string> ComposerName = new List<string>();\n",
    "\n",
    "\n",
    "//Add the contents\n",
    "ComposerName.Add(\"Berlioz\");\n",
    "ComposerName.Add(\"Borodin\");\n",
    "ComposerName.Add(\"Brian\");\n",
    "ComposerName.Add(\"Bartok\");\n",
    "ComposerName.Add(\"Bellini\");\n",
    "ComposerName.Add(\"Buxtehude\");\n",
    "ComposerName.Add(\"Bernstein\");\n",
    "\n",
    "//sort the Composer Names in ascending order\n",
    "ComposerName.Sort();\n",
    "\n",
    "Console.WriteLine(\"First Composer Name: {0}\", ComposerName[0]);\n",
    "Console.WriteLine(\"Last Composer Name: {0}\", ComposerName[6]);\n",
    "Console.ReadLine();"
   ]
  },
  {
   "cell_type": "markdown",
   "id": "ba4a7e73",
   "metadata": {},
   "source": [
    "Question 3 C#"
   ]
  },
  {
   "cell_type": "markdown",
   "id": "d89a2e4e",
   "metadata": {},
   "source": [
    "Implement function triangleArea(a,b,c) that takes as input the lengths of the 3 \n",
    "sides of a triangle and returns the area of the triangle. By Heron's formula, the area \n",
    "of a triangle with side lengths a, b, and c is s(s − a)(s −b)(s −c), where\n",
    "s = (a + b + c)/2."
   ]
  },
  {
   "cell_type": "code",
   "execution_count": null,
   "id": "e01d8cdb",
   "metadata": {},
   "outputs": [],
   "source": [
    "static void triangleArea(double a, double b, double c)\n",
    "{\n",
    "    double area, p, s;\n",
    "\n",
    "    //sum the values of a, b and c\n",
    "    p = a + b + c;\n",
    "\n",
    "    //Find s\n",
    "    s = p / 2;\n",
    "\n",
    "    //Find the area\n",
    "    area = Math.Sqrt(s * (s - a) * (s - b) * (s - c));\n",
    "\n",
    "    Console.WriteLine(\"Area of triangle with Sides {0}, {1}, {2} is: {3}\", a, b, c, area);\n",
    "}\n",
    "triangleArea(2,2,2);"
   ]
  },
  {
   "cell_type": "markdown",
   "id": "7fb4fb01",
   "metadata": {},
   "source": [
    "Question 4 C#"
   ]
  },
  {
   "cell_type": "markdown",
   "id": "229b26b1",
   "metadata": {},
   "source": [
    "Write a program in C# Sharp to separate odd and even integers in separate arrays. \n",
    "Go to the editor\n",
    "Test Data :\n",
    "Input the number of elements to be stored in the array :5 \n",
    "Input 5 elements in the array :\n",
    "element - 0 : 25\n",
    "element - 1 : 47\n",
    "element - 2 : 42\n",
    "element - 3 : 56\n",
    "element - 4 : 32 \n",
    "Expected Output:\n",
    "The Even elements are: \n",
    "42 56 32\n",
    "The Odd elements are :\n",
    "25 47"
   ]
  },
  {
   "cell_type": "code",
   "execution_count": null,
   "id": "fc9c7aba",
   "metadata": {},
   "outputs": [],
   "source": [
    "Console.WriteLine(\"How many numbers do you have?\");\n",
    "int input = Convert.ToInt32(Console.ReadLine());\n",
    "int[] array1 = new int[10];\n",
    "int[] array2 = new int[10];\n",
    "int[] array3 = new int[10];\n",
    "int a, b=0, c=0;\n",
    "\n",
    "Console.WriteLine($\"Enter {input} values in the array: \");\n",
    "\n",
    "for(a=0; a<input; a++)\n",
    "{\n",
    "\tConsole.Write($\"Element {a + 1} is: \");\n",
    "\tarray1[a] = Convert.ToInt32(Console.ReadLine());\n",
    "}\n",
    "\n",
    "for (a = 0; a < input; a++)\n",
    "{\n",
    "\tif (array1[a] % 2 == 0)\n",
    "\t{\n",
    "\t\tarray2[b] = array1[a];\n",
    "\t\tb++;\n",
    "\t}\n",
    "\telse\n",
    "\t{\n",
    "\t\tarray3[c] = array1[a];\n",
    "\t\tc++;\n",
    "\t}\n",
    "}\n",
    "\n",
    "Console.WriteLine(\"The even numbers: \");\n",
    "for (a = 0; a < b; a++)\n",
    "{\n",
    "\tConsole.WriteLine($\"{array2[a]}\");\n",
    "}\n",
    "Console.WriteLine(\"The odd numbers: \");\n",
    "for (a = 0; a < c; a++)\n",
    "{\n",
    "\tConsole.WriteLine($\"{array3[a]}\");\n",
    "}"
   ]
  },
  {
   "cell_type": "code",
   "execution_count": null,
   "id": "83dde690",
   "metadata": {},
   "outputs": [],
   "source": [
    "The Solution\n",
    "\n",
    "How many numbers do you have?\n",
    "5\n",
    "Enter 5 values in the array:\n",
    "Element 1 is: 25\n",
    "Element 2 is: 47\n",
    "Element 3 is: 42\n",
    "Element 4 is: 56\n",
    "Element 5 is: 32\n",
    "The even numbers:\n",
    "42\n",
    "56\n",
    "32\n",
    "The odd numbers:\n",
    "25\n",
    "47"
   ]
  },
  {
   "cell_type": "markdown",
   "id": "07ed11e1",
   "metadata": {},
   "source": [
    "Question 5 C#"
   ]
  },
  {
   "cell_type": "markdown",
   "id": "0f4d4c0b",
   "metadata": {},
   "source": [
    "a. Write a function inside(x,y,x1,y1,x2,y2) that returns True or False \n",
    "dependingonwhetherthepoint(x,y)liesintherectanglewithlowerleft \n",
    "corner (x1,y1) and upper right corner (x2,y2).\n",
    ">>> inside(1,1,0,0,2,3)\n",
    "True"
   ]
  },
  {
   "cell_type": "code",
   "execution_count": null,
   "id": "2acc72a4",
   "metadata": {},
   "outputs": [],
   "source": [
    "static void inside(double x, double y, double x1, double y1, double x2, double y2)\n",
    "{\n",
    "\tif (x > x1 && x < x2 && y > y1 && y < y2)\n",
    "\t{\n",
    "\t\tConsole.WriteLine(\"True\");\n",
    "\t}\n",
    "\telse\n",
    "\t{\n",
    "\t\tConsole.WriteLine(\"False\");\n",
    "\t}\n",
    "}\n",
    "inside(1, 1, 0, 0, 2, 3);"
   ]
  },
  {
   "cell_type": "markdown",
   "id": "43e954ad",
   "metadata": {},
   "source": [
    ">>> inside(-1,-1,0,0,2,3)\n",
    "False"
   ]
  },
  {
   "cell_type": "code",
   "execution_count": null,
   "id": "7f3f7cae",
   "metadata": {},
   "outputs": [],
   "source": [
    "static void inside(double x, double y, double x1, double y1, double x2, double y2)\n",
    "{\n",
    "\tif (x > x1 && x < x2 && y > y1 && y < y2)\n",
    "\t{\n",
    "\t\tConsole.WriteLine(\"True\");\n",
    "\t}\n",
    "\telse\n",
    "\t{\n",
    "\t\tConsole.WriteLine(\"False\");\n",
    "\t}\n",
    "}\n",
    "inside(-1, -1, 0, 0, 2, 3);"
   ]
  },
  {
   "cell_type": "markdown",
   "id": "58e0970e",
   "metadata": {},
   "source": [
    "b. Use function inside()from part a. to write an expression that tests whether \n",
    "the point (1,1) lies in both of the following rectangles: one with lower left \n",
    "corner (0.3, 0.5) and upper right corner (1.1, 0.7) and the other with lower \n",
    "left corner (0.5, 0.2) and upper right corner (1.1, 2)."
   ]
  },
  {
   "cell_type": "code",
   "execution_count": null,
   "id": "079f77ee",
   "metadata": {},
   "outputs": [],
   "source": [
    "static\tvoid test()\n",
    "{\n",
    "\tConsole.WriteLine(\"Do points (1, 1, 0.3, 0.5, 1.1, 0.7) lie in the rectangle with inside above\");\n",
    "\n",
    "    inside(1, 1, 0.3, 0.5, 1.1, 0.7);\n",
    "\n",
    "\n",
    "\tConsole.WriteLine(\"Do points (1, 1, 0.5, 0.2, 1.1, 2) lie in the rectangle with inside above\");\n",
    "\n",
    "\tinside(1, 1, 0.5, 0.2, 1.1, 2);\n",
    "}\n",
    "test();"
   ]
  },
  {
   "cell_type": "markdown",
   "id": "98456a03",
   "metadata": {},
   "source": [
    "Question 6 Python"
   ]
  },
  {
   "cell_type": "markdown",
   "id": "d1663526",
   "metadata": {},
   "source": [
    "You can turn a word into pig-Latin using the following two rules(simplified):\n",
    "• If the word starts with a consonant, move that letter to the end and append \n",
    "'ay'. For example, 'happy' becomes 'appyhay' and 'pencil' becomes 'encilpay'.\n",
    "• If the word starts with a vowel, simply append 'way' to the end of the word. \n",
    "For example, 'enter' becomes 'enterway' and 'other' becomes 'otherway' . For \n",
    "our purposes, there are 5 vowels: a, e, i, o, u (so we count y as a consonant).\n",
    "Write a function pig() that takes a word (i.e., a string) as input and returns its pig\u0002Latin form. Your function should still work if the input word contains upper case \n",
    "characters. Your output should always be lower case however.\n",
    "pig('happy')\n",
    "'appyhay'\n",
    "pig('Enter')\n",
    "'enterway'"
   ]
  },
  {
   "cell_type": "code",
   "execution_count": 7,
   "id": "9162a833",
   "metadata": {},
   "outputs": [
    {
     "name": "stdout",
     "output_type": "stream",
     "text": [
      "pig-Latin of 'happy' is\n",
      "appyhay \n",
      "---------------------------\n",
      "pig-Latin of 'enter' is\n",
      "enterway \n"
     ]
    }
   ],
   "source": [
    "def pig(originalWord):\n",
    "    a = originalWord.lower()\n",
    "    word = a.split()\n",
    "    vowelLetters = (\"a\", \"e\", \"i\", \"o\", \"u\")\n",
    "    if a[0] in vowelLetters:\n",
    "        for originalWord in word:\n",
    "            print(originalWord + \"way\", end = \" \")\n",
    "            \n",
    "    else:\n",
    "        for originalWord in word:\n",
    "            print(originalWord[1:] + originalWord[0] + \"ay\", end = \" \")\n",
    "    print()\n",
    "    \n",
    "print(\"pig-Latin of 'happy' is\")\n",
    "pig(\"happy\")\n",
    "print(\"---------------------------\")\n",
    "print(\"pig-Latin of 'enter' is\")\n",
    "pig(\"Enter\")"
   ]
  },
  {
   "cell_type": "markdown",
   "id": "83efc559",
   "metadata": {},
   "source": [
    "Question 7 Python"
   ]
  },
  {
   "cell_type": "markdown",
   "id": "abda9f63",
   "metadata": {},
   "source": [
    "File bloodtype1.txt records blood-types of patients (A, B, AB, O or OO) at a clinic. \n",
    "Write a function bldcount() that reads the file with name name and reports (i.e., \n",
    "prints) how many patients there are in each bloodtype.\n",
    " bldcount('bloodtype.txt')\n",
    "There are 10 patients of blood type A. \n",
    "There is one patient of blood type B. \n",
    "There are 10 patients of blood type AB. \n",
    "There are 12 patients of blood type O. \n",
    "There are no patients of blood type OO."
   ]
  },
  {
   "cell_type": "code",
   "execution_count": 21,
   "id": "101d6f12",
   "metadata": {},
   "outputs": [
    {
     "name": "stdout",
     "output_type": "stream",
     "text": [
      ">>>bldcount('bloodtype1.txt'):\n",
      "There are 15 patient(s) of blood type A\n",
      "There are 1 patient(s) of blood type B\n",
      "There are 13 patient(s) of blood type AB\n",
      "There are 15 patient(s) of blood type O\n",
      "There are 0 patient(s) of blood type OO\n"
     ]
    }
   ],
   "source": [
    "def bldcount(bloodtype):\n",
    "    with open(bloodtype) as t:\n",
    "        lines = t.read()\n",
    "        bloodgroup = lines.split()\n",
    "        \n",
    "    global a, b, c, d, e\n",
    "    a = 0\n",
    "    b = 0\n",
    "    c = 0\n",
    "    d = 0\n",
    "    e = 0\n",
    "    for name in bloodgroup:\n",
    "        if name == \"A\":\n",
    "            a = a + 1\n",
    "        elif name == \"B\":\n",
    "            b = b + 1\n",
    "        elif name == \"AB\":\n",
    "            c = c + 1\n",
    "        elif name == \"O\":\n",
    "            d = d +1\n",
    "        elif name == \"OO\":\n",
    "            e = e + 1\n",
    "            \n",
    "    print(\"There are \" + (str(a)) + \" patient(s) of blood type A\")\n",
    "    print(\"There are \" + (str(b)) + \" patient(s) of blood type B\")\n",
    "    print(\"There are \" + (str(c)) + \" patient(s) of blood type AB\")\n",
    "    print(\"There are \" + (str(d)) + \" patient(s) of blood type O\")\n",
    "    print(\"There are \" + (str(e)) + \" patient(s) of blood type OO\")\n",
    "\n",
    "print(\">>>bldcount('bloodtype1.txt'):\")\n",
    "bldcount('bloodtype1.txt')"
   ]
  },
  {
   "cell_type": "markdown",
   "id": "ab9ddd75",
   "metadata": {},
   "source": [
    "Question 8 Python"
   ]
  },
  {
   "cell_type": "markdown",
   "id": "ff96f114",
   "metadata": {},
   "source": [
    "Write a function curconv() that takes as input:\n",
    "1. a currency represented using a string (e.g., 'JPY' for the Japanese Yen or \n",
    "'EUR' for the Euro)\n",
    "2. an amount\n",
    "and then converts and returns the amount in US dollars.\n",
    "curconv('EUR', 100)\n",
    "122.96544\n",
    "curconv('JPY', 100)\n",
    "1.241401"
   ]
  },
  {
   "cell_type": "code",
   "execution_count": 3,
   "id": "50b1f8f3",
   "metadata": {},
   "outputs": [
    {
     "name": "stdout",
     "output_type": "stream",
     "text": [
      ">>>curconv('EUR, 100'): \n",
      "122.96544\n",
      "\n",
      "\n",
      ">>>curconv('JPY, 100'): \n",
      "1.241401\n"
     ]
    }
   ],
   "source": [
    "rate = int\n",
    "def curconv(currency, amount):\n",
    "    if currency == \"EUR\":\n",
    "        rate = 1.2296544*amount\n",
    "        \n",
    "    elif currency == \"JPY\":\n",
    "        rate = 0.01241401*amount\n",
    "        \n",
    "        \n",
    "    print(str(rate))\n",
    "    \n",
    "print(\">>>curconv('EUR, 100'): \")\n",
    "curconv('EUR', 100)\n",
    "print(\"\\n\")\n",
    "print(\">>>curconv('JPY, 100'): \")\n",
    "curconv('JPY', 100)"
   ]
  },
  {
   "cell_type": "markdown",
   "id": "55fb53c1",
   "metadata": {},
   "source": [
    "Question 9 Python"
   ]
  },
  {
   "cell_type": "markdown",
   "id": "15eae9d9",
   "metadata": {},
   "source": [
    "Each of the following will cause an exception (an error). Identify what type of \n",
    "exception each will cause."
   ]
  },
  {
   "cell_type": "markdown",
   "id": "156e8f6e",
   "metadata": {},
   "source": [
    "Trying to add incompatible variables, as in \n",
    "adding 6 + ‘a’\n"
   ]
  },
  {
   "cell_type": "code",
   "execution_count": 6,
   "id": "7b5f70fc",
   "metadata": {},
   "outputs": [
    {
     "name": "stdout",
     "output_type": "stream",
     "text": [
      "unsupported operand type(s) for +: 'int' and 'str'\n"
     ]
    }
   ],
   "source": [
    "try:\n",
    "    print(6 + 'a')\n",
    "except Exception as error:\n",
    "    print(error)"
   ]
  },
  {
   "cell_type": "markdown",
   "id": "964d3737",
   "metadata": {},
   "source": [
    "Referring to the 12th item of a list that has only 10 \n",
    "items"
   ]
  },
  {
   "cell_type": "code",
   "execution_count": 7,
   "id": "1a5d0495",
   "metadata": {},
   "outputs": [
    {
     "name": "stdout",
     "output_type": "stream",
     "text": [
      "list index out of range\n"
     ]
    }
   ],
   "source": [
    "try:\n",
    "    items = [0, 1, 2, 3, 4, 5, 6, 7, 8, 9]\n",
    "    print(items[12])\n",
    "except Exception as error:\n",
    "    print(error)"
   ]
  },
  {
   "cell_type": "markdown",
   "id": "b31e2bd1",
   "metadata": {},
   "source": [
    "Using a value that is out ofrange for a function’s \n",
    "input, such as calling math.sqrt(-1.0)"
   ]
  },
  {
   "cell_type": "code",
   "execution_count": 8,
   "id": "65eb858f",
   "metadata": {},
   "outputs": [
    {
     "name": "stdout",
     "output_type": "stream",
     "text": [
      "math domain error\n"
     ]
    }
   ],
   "source": [
    "import math\n",
    "try:\n",
    "    print(math.sqrt(-1.0))\n",
    "except Exception as error:\n",
    "    print(error)"
   ]
  },
  {
   "cell_type": "markdown",
   "id": "16046225",
   "metadata": {},
   "source": [
    "Using an undeclared variable, such as print(x)\n",
    "when x has not been defined"
   ]
  },
  {
   "cell_type": "code",
   "execution_count": 10,
   "id": "42846704",
   "metadata": {},
   "outputs": [
    {
     "name": "stdout",
     "output_type": "stream",
     "text": [
      "name 'x' is not defined\n"
     ]
    }
   ],
   "source": [
    "try:\n",
    "    print(x)\n",
    "except Exception as error:\n",
    "    print(error)"
   ]
  },
  {
   "cell_type": "markdown",
   "id": "52dbfdb0",
   "metadata": {},
   "source": [
    "Trying to open a file that does not exist, such as \n",
    "mistyping the file name or looking in the wrong \n",
    "directory"
   ]
  },
  {
   "cell_type": "code",
   "execution_count": 11,
   "id": "4fc9d7ab",
   "metadata": {},
   "outputs": [
    {
     "name": "stdout",
     "output_type": "stream",
     "text": [
      "[Errno 2] No such file or directory: 'bloodtype2.txt'\n"
     ]
    }
   ],
   "source": [
    "try:\n",
    "    blood = open(\"bloodtype2.txt\")\n",
    "    blood.close()\n",
    "except Exception as error:\n",
    "    print(error)"
   ]
  },
  {
   "cell_type": "markdown",
   "id": "ba734965",
   "metadata": {},
   "source": [
    "Question 10 Python"
   ]
  },
  {
   "cell_type": "markdown",
   "id": "840ba0f2",
   "metadata": {},
   "source": [
    "Assume that the string letters is already defined as \n",
    "'abcdefghijklmnopqrstuvwxyz'. Write a function called frequencies() \n",
    "that takes a string as its only parameter, and returns a list of integers, showing the \n",
    "number of times each character appears in the text. Your function may ignore any \n",
    "characters that are not in letters."
   ]
  },
  {
   "cell_type": "code",
   "execution_count": 2,
   "id": "cf8e4372",
   "metadata": {},
   "outputs": [
    {
     "name": "stdout",
     "output_type": "stream",
     "text": [
      ">>> frequencies('The quick red fox got bored and went home.')\n",
      "[1, 1, 1, 3, 5, 1, 1, 2, 1, 0, 1, 0, 1, 2, 4, 0, 1, 2, 0, 2, 1, 0, 1, 1, 0, 0]\n",
      "\n",
      "\n",
      ">>> frequencies('apple')\n",
      "[1, 0, 0, 0, 1, 0, 0, 0, 0, 0, 0, 1, 0, 0, 0, 2, 0, 0, 0, 0, 0, 0, 0, 0, 0, 0]\n"
     ]
    }
   ],
   "source": [
    "def frequencies(input):\n",
    "    alphabet = \"abcdefghijklmnopqrstuvwxyz\"\n",
    "    number = []\n",
    "    \n",
    "    for letters in alphabet:\n",
    "        count = input.count(letters)\n",
    "        number.append(count)\n",
    "    print(number)\n",
    "    \n",
    "\n",
    "print(\">>> frequencies('The quick red fox got bored and went home.')\")\n",
    "frequencies(\"The quick red fox got bored and went home.\")\n",
    "print('\\n')\n",
    "print(\">>> frequencies('apple')\")\n",
    "frequencies(\"apple\")"
   ]
  },
  {
   "cell_type": "code",
   "execution_count": null,
   "id": "526338d6",
   "metadata": {},
   "outputs": [],
   "source": []
  }
 ],
 "metadata": {
  "kernelspec": {
   "display_name": "Python 3 (ipykernel)",
   "language": "python",
   "name": "python3"
  },
  "language_info": {
   "codemirror_mode": {
    "name": "ipython",
    "version": 3
   },
   "file_extension": ".py",
   "mimetype": "text/x-python",
   "name": "python",
   "nbconvert_exporter": "python",
   "pygments_lexer": "ipython3",
   "version": "3.9.13"
  }
 },
 "nbformat": 4,
 "nbformat_minor": 5
}
